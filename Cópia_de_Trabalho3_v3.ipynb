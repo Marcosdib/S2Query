{
  "nbformat": 4,
  "nbformat_minor": 0,
  "metadata": {
    "colab": {
      "provenance": [],
      "include_colab_link": true
    },
    "kernelspec": {
      "name": "python3",
      "display_name": "Python 3"
    },
    "language_info": {
      "name": "python"
    }
  },
  "cells": [
    {
      "cell_type": "markdown",
      "metadata": {
        "id": "view-in-github",
        "colab_type": "text"
      },
      "source": [
        "<a href=\"https://colab.research.google.com/github/Marcosdib/S2Query/blob/main/C%C3%B3pia_de_Trabalho3_v3.ipynb\" target=\"_parent\"><img src=\"https://colab.research.google.com/assets/colab-badge.svg\" alt=\"Open In Colab\"/></a>"
      ]
    },
    {
      "cell_type": "markdown",
      "metadata": {
        "id": "GgH-LTpuKrmu"
      },
      "source": [
        "# Trabalho 2 IIA"
      ]
    },
    {
      "cell_type": "markdown",
      "metadata": {
        "id": "RpxAIeXqKviY"
      },
      "source": [
        "## Criando o Perceptron"
      ]
    },
    {
      "cell_type": "markdown",
      "metadata": {
        "id": "WcU9AmirK1Fs"
      },
      "source": [
        "Na aula prática passada nós construimos um perceptron simples para realizar uma tarefa de classificação. Hoje iremos criar uma classe Perceptron para que possamos utilizá-la na solução de um problema mais complexo.\n",
        "\n",
        "Link da aula: https://colab.research.google.com/drive/1elhlWjfiie2ypTpFuR-GDzMPnCrgmVKi?usp=sharing"
      ]
    },
    {
      "cell_type": "markdown",
      "metadata": {
        "id": "5MJESBvWLb4F"
      },
      "source": [
        "![picture](https://drive.google.com/uc?id=1W8SXGn7Y-9YqTUEBSWtcXhB-9zpjSeG6)\n",
        "\n",
        "Nosso neurônio perceptron irá precisar de um **bias**. Esse **bias** irá servir para expandir as capacidades do nosso componente.\n",
        "\n",
        "Basta imaginar que nosso neurônio é capaz de traçar uma linha separando os dados, porém treinando e manipulando apenas os pesos a equação da linha resultante fica: Y = a*X. Com a introdução do **bias**, e seu consequente treinamento, será possível traçar linhas do tipo Y = a*X + b, o que permitirá a linha \"descolar\" da origem ([0,0] para o exemplo em 2 dimensões)."
      ]
    },
    {
      "cell_type": "code",
      "metadata": {
        "id": "wAQXb8yl1o7b"
      },
      "source": [
        "import numpy as np\n",
        "import matplotlib.pyplot as plt"
      ],
      "execution_count": null,
      "outputs": []
    },
    {
      "cell_type": "code",
      "metadata": {
        "id": "v4JrEO391o1s"
      },
      "source": [
        "class Perceptron(object):\n",
        "\n",
        "  def __init__(self, alpha=0.1, epochs=10):\n",
        "    np.random.seed(1) # [OBS1]\n",
        "    self.alpha = alpha # alpha é a nossa taxa de aprendizado\n",
        "    self.epochs = epochs\n",
        "    self.weights = None\n",
        "    self.bias = 0.5\n",
        "    self.samples = None\n",
        "    self.features = None\n",
        "\n",
        "  def fit (self, X, Y):\n",
        "    n_samples, n_features = X.shape\n",
        "    # Inicialize os Pesos e Bias: [ATIVIDADE 1]\n",
        "    self.weights = 2*np.random.random((n_features))-1\n",
        "    self.bias = 2*np.random.random()-1\n",
        "\n",
        "    for epoch in range(self.epochs):\n",
        "        for x_i,y_esperado in zip(X,Y):\n",
        "            # Defina as funções de treinamento: [ATIVIDADE 2]\n",
        "            erro=y_esperado - self.predict(x_i)\n",
        "            self.weights = self.weights + self.alpha * erro * x_i\n",
        "            self.bias = self.bias + self.alpha * erro\n",
        "    return self\n",
        "\n",
        "  def predict(self, X):\n",
        "    # Calcule o output do perceptron: [ATIVIDADE 3]\n",
        "    Z = np.dot(X , self.weights) + self.bias\n",
        "    output=self.activation(Z)\n",
        "    return output\n",
        "\n",
        "  def activation(self, signal):\n",
        "    return np.where( signal >= 0, 1, 0) # Função degrau de ativação\n"
      ],
      "execution_count": null,
      "outputs": []
    },
    {
      "cell_type": "markdown",
      "metadata": {
        "id": "CQq0JMXaPcSh"
      },
      "source": [
        "OBS1: Inicializando Seed de Random para que seja possível realizar testes com inicialização de pesos aleatória, e também seja possível replicar os testes caso necessário. Para alterar os pesos iniciais basta mudar o inteiro passado na função **np.random.seed()**.\n",
        "### Atividade 1 - Inicialize os Pesos e Bias\n",
        "Na chamada do método fit, inicialize os pesos (self.weights) e bias (self.bias) para valores aleatórios entre -1 e 1. (Se precisar de ajuda consulte a última sessão da aula: **Code Snippets**)\n",
        "\n",
        "### Atividade 2 - Defina as funções de treinamento\n",
        "Para cada input é necessário calcular o output do perceptron (chamando a função self.predict), a partir do output podemos calcular o erro (output_desejado - output), e devemos atualizar os pesos (input * alpha * erro) e bias (alpha * erro).\n",
        "\n",
        "### Atividade 3 - Calcule o output do perceptron\n",
        "Dentro da função predict você deve chamar a função de ativação (**activation**) passando como parâmetro o somatório dos pesos * inputs + bias (lembre-se que pesos e inputs são vetores). E retornar o output do perceptron."
      ]
    },
    {
      "cell_type": "markdown",
      "metadata": {
        "id": "yykRDbhgJsrq"
      },
      "source": [
        "## Validando o perceptron criado\n",
        "Aqui vamos conferir se o perceptron foi criado corretamente solucionando um problema simples de classificação linear utilizando sklearn."
      ]
    },
    {
      "cell_type": "code",
      "metadata": {
        "id": "jdH1pRV4X9vw"
      },
      "source": [
        "def accuracy(y_true, y_pred):\n",
        "    hits = 0\n",
        "    # Crie uma função de acurácia simples: [ATIVIDADE 4]\n",
        "    for i, value in enumerate(y_true):\n",
        "        if y_true[i] == y_pred[i]:\n",
        "            hits += 1\n",
        "    return hits/len(y_true)*100 if hits != 0 else 0"
      ],
      "execution_count": null,
      "outputs": []
    },
    {
      "cell_type": "markdown",
      "metadata": {
        "id": "FNs7lQilYSr2"
      },
      "source": [
        "### Atividade 4 - Crie uma função simples para calcular acurácia\n",
        "Aqui podemos fazer o mais genérico possível, a função recebe os outputs desejados e as predições e deve iterar um por um, calcular a quantidade de hits (acertos onde y_true == y_pred) e no final dividir esse valor pela quantidade de outputs (tamanho dos vetores de entrada)."
      ]
    },
    {
      "cell_type": "code",
      "metadata": {
        "id": "ZPXjctno1owU",
        "colab": {
          "base_uri": "https://localhost:8080/",
          "height": 447
        },
        "outputId": "c0d54a89-9e3b-41c5-c376-b8c299d85cd5"
      },
      "source": [
        "from sklearn.model_selection import train_test_split\n",
        "from sklearn import datasets\n",
        "\n",
        "X, y = datasets.make_blobs(\n",
        "    n_samples=150, n_features=2, centers=2, cluster_std=1.05, random_state=2\n",
        ")\n",
        "X_train, X_test, y_train, y_test = train_test_split(\n",
        "    X, y, test_size=0.2, random_state=123\n",
        ")\n",
        "\n",
        "p = Perceptron(alpha=0.01, epochs=10)\n",
        "p.fit(X_train, y_train)\n",
        "predictions = p.predict(X_test)\n",
        "\n",
        "print(\"Perceptron classification accuracy\", accuracy(y_test, predictions))\n",
        "\n",
        "# Visualizando o problema que foi solucionado\n",
        "\n",
        "fig = plt.figure()\n",
        "ax = fig.add_subplot(1, 1, 1)\n",
        "plt.scatter(X_train[:, 0], X_train[:, 1], marker=\"o\", c=y_train)\n",
        "\n",
        "x0_1 = np.amin(X_train[:, 0])\n",
        "x0_2 = np.amax(X_train[:, 0])\n",
        "\n",
        "x1_1 = (-p.weights[0] * x0_1 - p.bias) / p.weights[1]\n",
        "x1_2 = (-p.weights[0] * x0_2 - p.bias) / p.weights[1]\n",
        "\n",
        "ax.plot([x0_1, x0_2], [x1_1, x1_2], \"k\")\n",
        "\n",
        "ymin = np.amin(X_train[:, 1])\n",
        "ymax = np.amax(X_train[:, 1])\n",
        "ax.set_ylim([ymin - 3, ymax + 3])\n",
        "\n",
        "plt.show()"
      ],
      "execution_count": null,
      "outputs": [
        {
          "output_type": "stream",
          "name": "stdout",
          "text": [
            "Perceptron classification accuracy 100.0\n"
          ]
        },
        {
          "output_type": "display_data",
          "data": {
            "text/plain": [
              "<Figure size 640x480 with 1 Axes>"
            ],
            "image/png": "[encoded data removed]"
          },
          "metadata": {}
        }
      ]
    },
    {
      "cell_type": "markdown",
      "metadata": {
        "id": "5R6rvBVFY5Fk"
      },
      "source": [
        "Se você implementou as atividades de 1 à 4 corretamente o seu perceptron deve ser capaz de classificar o problema acima com acurácia de 1.0 (100%). Parabéns!"
      ]
    },
    {
      "cell_type": "markdown",
      "metadata": {
        "id": "usJsz-nRJxOZ"
      },
      "source": [
        "## OCR: Reconhecimento Óptico de Roupas\n",
        "Vamos resolver um problema de OCR simples que pode ser caracterizado como um problema de classificação, que recebe a imagem de uma roupa como input e retorna a label correspondente."
      ]
    },
    {
      "cell_type": "markdown",
      "metadata": {
        "id": "JXQEjg9R1jJL"
      },
      "source": [
        "## Dataset\n",
        "Faremos uso do dataset fashion MNIST: https://github.com/zalandoresearch/fashion-mnist\n",
        "\n",
        "![picture](https://machinelearningmastery.com/wp-content/uploads/2019/02/Plot-of-a-Subset-of-Images-from-the-Fashion-MNIST-Dataset-1024x768.png)\n",
        "\n",
        "Esse dataset é composto \"roupas\" de categorias de 0 à 9 (T-shirt/top,   trouser, pullover, dress, coat, sandal, shirt, sneaker, bag e ankle boot, respectivamente), e contém 60.000 exemplos de treinamento e 10.000 exemplos de teste.\n",
        "\n",
        "A palavra \"imagens\" foi posta entre aspas porque os arquivos não estão salvos em .png ou .jpg, eles já estão num arquivo binário descrito no link do dataset que contém as informações pixel a pixel dos exemplos.\n",
        "\n",
        "Como o foco desse trabalho não é a manipulação de arquivos com python, deixei disponível aqui embaixo algumas funções que já tratarão desses dados e disponibilizarão de maneira simples para vocês usarem."
      ]
    },
    {
      "cell_type": "code",
      "metadata": {
        "id": "W7ZJeEWMXMA2",
        "colab": {
          "base_uri": "https://localhost:8080/"
        },
        "outputId": "73252cfd-98b7-421f-88fb-f9925d52be04"
      },
      "source": [
        "# download do dataset (training set images)\n",
        "!curl -O http://fashion-mnist.s3-website.eu-central-1.amazonaws.com/train-images-idx3-ubyte.gz\n",
        "# download do dataset (training set labels)\n",
        "!curl -O http://fashion-mnist.s3-website.eu-central-1.amazonaws.com/train-labels-idx1-ubyte.gz\n",
        "# download do dataset (testing set images)\n",
        "!curl -O http://fashion-mnist.s3-website.eu-central-1.amazonaws.com/t10k-images-idx3-ubyte.gz\n",
        "# download do dataset (testing set labels)\n",
        "!curl -O http://fashion-mnist.s3-website.eu-central-1.amazonaws.com/t10k-labels-idx1-ubyte.gz"
      ],
      "execution_count": null,
      "outputs": [
        {
          "output_type": "stream",
          "name": "stdout",
          "text": [
            "  % Total    % Received % Xferd  Average Speed   Time    Time     Time  Current\n",
            "                                 Dload  Upload   Total   Spent    Left  Speed\n",
            "100 25.1M  100 25.1M    0     0  81.5M      0 --:--:-- --:--:-- --:--:-- 81.5M\n",
            "  % Total    % Received % Xferd  Average Speed   Time    Time     Time  Current\n",
            "                                 Dload  Upload   Total   Spent    Left  Speed\n",
            "100 29515  100 29515    0     0   505k      0 --:--:-- --:--:-- --:--:--  505k\n",
            "  % Total    % Received % Xferd  Average Speed   Time    Time     Time  Current\n",
            "                                 Dload  Upload   Total   Spent    Left  Speed\n",
            "100 4318k  100 4318k    0     0  33.4M      0 --:--:-- --:--:-- --:--:-- 33.4M\n",
            "  % Total    % Received % Xferd  Average Speed   Time    Time     Time  Current\n",
            "                                 Dload  Upload   Total   Spent    Left  Speed\n",
            "100  5148  100  5148    0     0  99000      0 --:--:-- --:--:-- --:--:-- 99000\n"
          ]
        }
      ]
    },
    {
      "cell_type": "code",
      "metadata": {
        "colab": {
          "base_uri": "https://localhost:8080/"
        },
        "id": "fA4ip2Ii20pU",
        "outputId": "e9f085fd-56f3-42f6-dfca-161c7c4ea634"
      },
      "source": [
        "# Extrair arquivos\n",
        "!gunzip *"
      ],
      "execution_count": null,
      "outputs": [
        {
          "output_type": "stream",
          "name": "stdout",
          "text": [
            "gzip: sample_data is a directory -- ignored\n",
            "gzip: t10k-images-idx3-ubyte: unknown suffix -- ignored\n",
            "gzip: t10k-images-idx3-ubyte already exists; do you wish to overwrite (y or n)? n\n",
            "\tnot overwritten\n",
            "gzip: t10k-labels-idx1-ubyte: unknown suffix -- ignored\n",
            "gzip: t10k-labels-idx1-ubyte already exists; do you wish to overwrite (y or n)? n\n",
            "\tnot overwritten\n",
            "gzip: train-images-idx3-ubyte: unknown suffix -- ignored\n",
            "gzip: train-images-idx3-ubyte already exists; do you wish to overwrite (y or n)? n\n",
            "\tnot overwritten\n",
            "gzip: train-labels-idx1-ubyte: unknown suffix -- ignored\n",
            "gzip: train-labels-idx1-ubyte already exists; do you wish to overwrite (y or n)? n\n",
            "\tnot overwritten\n"
          ]
        }
      ]
    },
    {
      "cell_type": "code",
      "metadata": {
        "id": "qXKDfdF9y4Xt"
      },
      "source": [
        "def bytes_to_int(byte_data):\n",
        "    return int.from_bytes(byte_data, 'big')\n",
        "\n",
        "def read_images(filename, n_max_images=None, show = False):\n",
        "    images = []\n",
        "    with open(filename, 'rb') as f:\n",
        "        _ = f.read(4)  # magic number\n",
        "        n_images = bytes_to_int(f.read(4))\n",
        "        if n_max_images:\n",
        "            n_images = n_max_images\n",
        "        n_rows = bytes_to_int(f.read(4))\n",
        "        n_columns = bytes_to_int(f.read(4))\n",
        "        for image_idx in range(n_images):\n",
        "            image = []\n",
        "            for row_idx in range(n_rows):\n",
        "                row = []\n",
        "                for col_idx in range(n_columns):\n",
        "                    if show:\n",
        "                        pixel = f.read(1)\n",
        "                    else:\n",
        "                        pixel = bytes_to_int(f.read(1))\n",
        "                    row.append(pixel)\n",
        "                image.append(row)\n",
        "            images.append(image)\n",
        "    return images\n",
        "\n",
        "def read_labels(filename, n_max_labels=None):\n",
        "    labels = []\n",
        "    with open(filename, 'rb') as f:\n",
        "        _ = f.read(4)  # magic number\n",
        "        n_labels = bytes_to_int(f.read(4))\n",
        "        if n_max_labels:\n",
        "            n_labels = n_max_labels\n",
        "        for label_idx in range(n_labels):\n",
        "            label = bytes_to_int(f.read(1))\n",
        "            labels.append(label)\n",
        "    return labels"
      ],
      "execution_count": null,
      "outputs": []
    },
    {
      "cell_type": "code",
      "metadata": {
        "id": "cbWZnSBGzPPp"
      },
      "source": [
        "def flatten_list(l):\n",
        "    return [pixel for sublist in l for pixel in sublist]\n",
        "\n",
        "def extract_features(X):\n",
        "    return [flatten_list(sample) for sample in X]"
      ],
      "execution_count": null,
      "outputs": []
    },
    {
      "cell_type": "markdown",
      "metadata": {
        "id": "9DXazdUPboj6"
      },
      "source": [
        "A função `extract_features` seria responsável por extrair features das imagens, porém como estamos carregando todos os dados diretamente nos neurônios, ela só irá chamar a função `flatten_list` para todos os samples.\n",
        "\n",
        "A função `flatten_list` irá transformar o que era uma matriz de dados 28 x 28 em um simples vetor com 784 valores que será carregado como input para nosso perceptron."
      ]
    },
    {
      "cell_type": "markdown",
      "metadata": {
        "id": "eOd7cBkccyYj"
      },
      "source": [
        "## Pré-Processamento"
      ]
    },
    {
      "cell_type": "code",
      "metadata": {
        "colab": {
          "base_uri": "https://localhost:8080/"
        },
        "id": "C2avlFWwzK8L",
        "outputId": "e909bb6e-4eed-42fe-c30a-0d556b0a2a5b"
      },
      "source": [
        "TEST_DATA_FILENAME = 't10k-images-idx3-ubyte'\n",
        "TEST_LABELS_FILENAME = 't10k-labels-idx1-ubyte'\n",
        "TRAIN_DATA_FILENAME = 'train-images-idx3-ubyte'\n",
        "TRAIN_LABELS_FILENAME = 'train-labels-idx1-ubyte'\n",
        "\n",
        "n_train = 1000 # Numero de imagens carregadas para treinamento\n",
        "n_test = 10 # Numero de imagens carregadas para teste\n",
        "\n",
        "x_train = read_images(TRAIN_DATA_FILENAME, n_train)\n",
        "y_train = np.array(read_labels(TRAIN_LABELS_FILENAME, n_train)).reshape(n_train,1)\n",
        "print(len(x_train[0]))\n",
        "print(len(x_train[0][0]))\n",
        "\n",
        "x_test = read_images(TEST_DATA_FILENAME, n_test)\n",
        "y_test = read_labels(TEST_LABELS_FILENAME, n_test)\n",
        "\n",
        "x_train = np.array(extract_features(x_train))/255 # Transformando em numpy array e normalizando (valores entre 0 e 1)\n",
        "x_test = np.array(extract_features(x_test))/255 # Transformando em numpy array e normalizando (valores entre 0 e 1)\n",
        "print(len(x_train[0]))"
      ],
      "execution_count": null,
      "outputs": [
        {
          "output_type": "stream",
          "name": "stdout",
          "text": [
            "28\n",
            "28\n",
            "784\n"
          ]
        }
      ]
    },
    {
      "cell_type": "markdown",
      "metadata": {
        "id": "YuPGEwxLenJW"
      },
      "source": [
        "### Visualização"
      ]
    },
    {
      "cell_type": "code",
      "metadata": {
        "colab": {
          "base_uri": "https://localhost:8080/",
          "height": 829
        },
        "id": "PgdNxvMtftIC",
        "outputId": "659c2aaf-af1c-410c-bdca-51321a6c08d8"
      },
      "source": [
        "from PIL import Image\n",
        "\n",
        "sample_images = read_images(TEST_DATA_FILENAME, 16, show=True)\n",
        "sample_labels = read_labels(TEST_LABELS_FILENAME, 16)\n",
        "plt.figure(figsize=(10, 10))\n",
        "for idx, test_sample in enumerate(sample_images):\n",
        "    img = Image.fromarray(np.array(test_sample), 'L')\n",
        "    ax = plt.subplot(4, 4, idx + 1)\n",
        "    plt.imshow(img)\n",
        "    plt.title(int(sample_labels[idx]))\n",
        "    plt.axis(\"off\")"
      ],
      "execution_count": null,
      "outputs": [
        {
          "output_type": "display_data",
          "data": {
            "text/plain": [
              "<Figure size 1000x1000 with 16 Axes>"
            ],
            "image/png": "[encoded data removed]"
          },
          "metadata": {}
        }
      ]
    },
    {
      "cell_type": "markdown",
      "metadata": {
        "id": "dhY7nv6zlbBz"
      },
      "source": [
        "## Modelagem\n",
        "\n",
        "Nossa solução fará uso de 10 perceptrons classificadores, 1 para cada classe (tipo de roupa).\n",
        "\n",
        "Como cada classificador será treinado individualmente, será necessário transformar o vetor de labels para cada neurônio de maneira a garantir que o erro será calculado corretamente.\n",
        "\n",
        "Exemplo para o perceptron classificador de 1s: Label = `[0,1,4,1,5]` -> `[0, 1, 0, 1, 0]`\n",
        "\n",
        "Além disso a saída será individualizada, ou seja, não teremos uma saída final com a previsão da rede, ao invés disso teremos 10 saídas independentes que precisamos unir para avaliar a saída completa.\n",
        "\n",
        "Aqui surgirá um problema de quebrar os empates, ou seja, quando mais de um perceptron ativar para uma mesma entrada. Nesse primeiro momento iremos converter o vetor de labels para que cada label seja equivalente a um vetor de 10 posições de 0s e 1s correspondente ao output desejado da rede completa unida, e verificaremos se o vetor resultante da nossa rede é igual ao desejado.\n",
        "\n",
        "Exemplo: Label = `[5]` -> `[0, 0, 0, 0, 0, 1, 0, 0, 0, 0]`"
      ]
    },
    {
      "cell_type": "markdown",
      "metadata": {
        "id": "xcXnBnbapnzF"
      },
      "source": [
        "### Começando com o perceptron classificador de 1s:"
      ]
    },
    {
      "cell_type": "code",
      "metadata": {
        "colab": {
          "base_uri": "https://localhost:8080/"
        },
        "id": "z6lTFcmhpmGJ",
        "outputId": "c4b9ff97-8a4b-4e7f-d9c6-c444bd57e6e0"
      },
      "source": [
        "from pandas.core.dtypes.common import Any\n",
        "p = Perceptron(alpha=0.1, epochs=50)\n",
        "\n",
        "# Formatar labels de treinamento: [ATIVIDADE 5]\n",
        "n_max_label = 0\n",
        "for i in range(len(x_train)):\n",
        "    n_max_label = max(n_max_label,int(y_train[i]))\n",
        "\n",
        "y_formatado = np.zeros((n_max_label+1, n_train),np.int16)\n",
        "\n",
        "for j in range(n_max_label+1):\n",
        "    for i in range(n_train):\n",
        "        if y_train[i]==j:\n",
        "            y_formatado [j][i] = 1\n",
        "\n",
        "# Treinar Rede: [ATIVIDADE 6]\n",
        "label=1\n",
        "p.fit(x_train, y_formatado[label])\n",
        "\n",
        "# Gerar vetor de predições: [ATIVIDADE 7]\n",
        "predictions = p.predict(x_test)\n",
        "\n",
        "print('Objetivo ',y_test)\n",
        "a = str(\"Resultado [\")\n",
        "for i in range(len(y_test)):\n",
        "    a = a + str(predictions[i]) + (\", \" if i < len(y_test)-1 else \"]\")\n",
        "print(a)\n",
        "\n",
        "ylabel_test = []\n",
        "for i in range(len(y_test)):\n",
        "    if y_test[i] == label:\n",
        "        ylabel_test.append(1)\n",
        "    else:\n",
        "        ylabel_test.append(0)\n",
        "\n",
        "print(\"Perceptron classification accuracy\", accuracy(ylabel_test, predictions))"
      ],
      "execution_count": null,
      "outputs": [
        {
          "output_type": "stream",
          "name": "stdout",
          "text": [
            "Objetivo  [9, 2, 1, 1, 6, 1, 4, 6, 5, 7]\n",
            "Resultado [0, 0, 1, 1, 0, 1, 0, 0, 0, 0]\n",
            "Perceptron classification accuracy 100.0\n"
          ]
        }
      ]
    },
    {
      "cell_type": "markdown",
      "metadata": {
        "id": "9_mEW18YsNNP"
      },
      "source": [
        "### Atividade 5: Formatar labels de treinamento\n",
        "Como comentado mais acima precisamos transformar as labels do tipo `[0,1,4,1,5]` -> `[0, 1, 0, 1, 0]` para que seja possível treinar o neurônio classificador de roupas do tipo 1.\n"
      ]
    },
    {
      "cell_type": "markdown",
      "metadata": {
        "id": "fQkXFpnLtxKw"
      },
      "source": [
        "### Atividade 6: Treinar o perceptron\n",
        "Chamar a função fit passando como parâmetros o `x_train` e o `y_formatado`."
      ]
    },
    {
      "cell_type": "markdown",
      "metadata": {
        "id": "ORoS0OH0pmpR"
      },
      "source": [
        "### Atividade 7: Gerar vetor de predições\n",
        "Chamar a função predict passando x_test como parâmetro para obter o vetor de saída do perceptron.\n"
      ]
    },
    {
      "cell_type": "markdown",
      "metadata": {
        "id": "l_X6_YEquGhx"
      },
      "source": [
        "Se tudo for realizado corretamente o print deverá conter um vetor de labels (`y_test`) com 10 numeros, correspodentes aos 10 tipos de roupas, e o print de predições deve apresentar 1 apenas nas posições correspondentes à label `1` no vetor de labels."
      ]
    },
    {
      "cell_type": "markdown",
      "metadata": {
        "id": "PvH26RFPuIXf"
      },
      "source": [
        "### Agora com os 10 classificadores"
      ]
    },
    {
      "cell_type": "code",
      "metadata": {
        "id": "i7NqYzNqo0l0"
      },
      "source": [
        "P_list = []\n",
        "# Inicialize uma lista de 10 perceptrons: [ATIVIDADE 8]\n",
        "for i in range(10):\n",
        "    P_list.append(Perceptron(alpha=0.1, epochs=50))\n",
        "\n",
        "# Loop de treinamento: [ATIVIDADE 9]\n",
        "for i in range(len(P_list)):\n",
        "    P_list[i].fit(x_train, y_formatado[i])\n",
        "\n",
        "predictions = []\n",
        "# Loop de predições: [ATIVIDADE 10]\n",
        "for i in range(len(P_list)):\n",
        "    predictions.append(P_list[i].predict(x_test))"
      ],
      "execution_count": null,
      "outputs": []
    },
    {
      "cell_type": "markdown",
      "metadata": {
        "id": "01GA-UZao8MC"
      },
      "source": [
        "### Atividade 8: Inicialize a lista de perceptrons\n",
        "Faça um loop que inicializará uma lista de 10 perceptrons.\n",
        "\n"
      ]
    },
    {
      "cell_type": "markdown",
      "metadata": {
        "id": "pZltL3JAuzhL"
      },
      "source": [
        "### Atividade 9: Loop de treinamento\n",
        "Aqui dentro você precisa formatar o vetor de y_train para cada neurônio a ser treinado, e passar o y_formatado para dentro da função de treinamento de cada neurônio."
      ]
    },
    {
      "cell_type": "markdown",
      "metadata": {
        "id": "rjcUpEkjQwvR"
      },
      "source": [
        "### Atividade 10: Loop de predições\n",
        "Aqui precisamos passar por todo o vetor de perceptrons e calcular suas predições para o input `x_test`."
      ]
    },
    {
      "cell_type": "markdown",
      "metadata": {
        "id": "LRL2koVfwa32"
      },
      "source": [
        "### Formatando tudo para calcular acuracia"
      ]
    },
    {
      "cell_type": "markdown",
      "metadata": {
        "id": "nFEtDZinwnZM"
      },
      "source": [
        "A variável predictions contém o resultado da predição dos nossos 10 perceptrons, e para cada um deles existe um vetor de n_test predições.\n",
        "\n",
        "Para que possamos calcular a acurácia precisamos agrupar a primeira predição de cada perceptron, a segunda de cada perceptron, e assim por diante.\n",
        "\n",
        "Além disso precisamos converter o nosso vetor de labels para comparar com as predições. Lembrando que aqui teremos o problema de quebrar empates, e com essa solução iremos considerar que um empate, ou seja, quando dois ou mais perceptrons ativarem para o mesmo input, é um erro.\n"
      ]
    },
    {
      "cell_type": "code",
      "metadata": {
        "colab": {
          "base_uri": "https://localhost:8080/"
        },
        "id": "uTj9jJ_iwO6b",
        "outputId": "3e1040d2-b682-4de7-dddd-82ffc0fb350e"
      },
      "source": [
        "# Reformatando o vetor de predições\n",
        "grouped_predictions = []\n",
        "for i in range(n_test):\n",
        "    singlePrediction = []\n",
        "    for j, prediction in enumerate(predictions):\n",
        "        singlePrediction.append(prediction[i])\n",
        "    grouped_predictions.append(singlePrediction)\n",
        "\n",
        "# Reformatando o vetor de labels\n",
        "def convert_number_to_array_prediction(n):\n",
        "    array_prediction = np.zeros(10)\n",
        "    array_prediction[n] = 1\n",
        "    return array_prediction\n",
        "\n",
        "def convert_y_test_to_array_prediction(ytest):\n",
        "    convertedList = []\n",
        "    for i in ytest:\n",
        "        convertedList.append(convert_number_to_array_prediction(i))\n",
        "    return np.array(convertedList)\n",
        "\n",
        "# Salvando novo vetor de y_test\n",
        "y_test_as_array = convert_y_test_to_array_prediction(y_test)\n",
        "\n",
        "# Definindo nova função de acuracia [OBS2]\n",
        "hits = 0\n",
        "for i, prediction in enumerate(grouped_predictions):\n",
        "    # print(prediction)\n",
        "    # print(convertedArray[i])\n",
        "    if (prediction == y_test_as_array[i]).all():\n",
        "        hits+=1\n",
        "\n",
        "# print('gp', grouped_predictions)\n",
        "# print('y', y_test_as_array)\n",
        "print('Acuracia: ',hits/n_test)"
      ],
      "execution_count": null,
      "outputs": [
        {
          "output_type": "stream",
          "name": "stdout",
          "text": [
            "Acuracia:  0.7\n"
          ]
        }
      ]
    },
    {
      "cell_type": "markdown",
      "metadata": {
        "id": "irSiPvAxzzh4"
      },
      "source": [
        "OBS2: Precisamos definir nova função para calcular acurácia porque estamos comparando vetores inteiros. (verificar `.all()` e `.any()` na documentação do numpy)"
      ]
    },
    {
      "cell_type": "markdown",
      "metadata": {
        "id": "eKTojD2K2brX"
      },
      "source": [
        "### Atividade 11: Melhorar a Acuracia\n",
        "Altere o valor de n_test para 100, e modifique os valores de n_train, n_epocas, alpha, etc. Consiga uma acuracia mínima de 60%.\n",
        "\n",
        "Alteracões:\n",
        "*   imagens de treino: 1.000\n",
        "*   alpha: 0.5\n",
        "*   epocas: 100\n",
        "\n",
        "> Acurácia: 64%\n",
        "\n",
        "\n"
      ]
    },
    {
      "cell_type": "code",
      "source": [
        "n_train = 1000 # Numero de imagens carregadas para treinamento\n",
        "n_test = 100 # Numero de imagens carregadas para teste\n",
        "\n",
        "x_train = read_images(TRAIN_DATA_FILENAME, n_train)\n",
        "y_train = np.array(read_labels(TRAIN_LABELS_FILENAME, n_train)).reshape(n_train,1)\n",
        "##print(len(x_train[0]))\n",
        "##print(len(x_train[0][0]))\n",
        "\n",
        "x_test = read_images(TEST_DATA_FILENAME, n_test)\n",
        "y_test = read_labels(TEST_LABELS_FILENAME, n_test)\n",
        "\n",
        "x_train = np.array(extract_features(x_train))/255 # Transformando em numpy array e normalizando (valores entre 0 e 1)\n",
        "x_test = np.array(extract_features(x_test))/255 # Transformando em numpy array e normalizando (valores entre 0 e 1)\n",
        "##print(len(x_train[0]))\n",
        "\n",
        "\n",
        "###############\n",
        "\n",
        "P_list = []\n",
        "# Inicialize uma lista de 10 perceptrons:\n",
        "for i in range(10):\n",
        "    P_list.append(Perceptron(alpha=0.5, epochs=100))\n",
        "\n",
        "# Loop de treinamento: [Atividade 9]\n",
        "for i in range(len(P_list)):\n",
        "    P_list[i].fit(x_train, y_formatado[i])\n",
        "\n",
        "predictions = []\n",
        "# Loop de predições:\n",
        "for i in range(len(P_list)):\n",
        "    predictions.append(P_list[i].predict(x_test))\n",
        "\n",
        "\n",
        "###############\n",
        "# Reformatando o vetor de predições\n",
        "grouped_predictions = []\n",
        "for i in range(n_test):\n",
        "    singlePrediction = []\n",
        "    for j, prediction in enumerate(predictions):\n",
        "        singlePrediction.append(prediction[i])\n",
        "    grouped_predictions.append(singlePrediction)\n",
        "\n",
        "# Reformatando o vetor de labels\n",
        "def convert_number_to_array_prediction(n):\n",
        "    array_prediction = np.zeros(10)\n",
        "    array_prediction[n] = 1\n",
        "    return array_prediction\n",
        "\n",
        "def convert_y_test_to_array_prediction(ytest):\n",
        "    convertedList = []\n",
        "    for i in ytest:\n",
        "        convertedList.append(convert_number_to_array_prediction(i))\n",
        "    return np.array(convertedList)\n",
        "\n",
        "# Salvando novo vetor de y_test\n",
        "y_test_as_array = convert_y_test_to_array_prediction(y_test)\n",
        "\n",
        "# Definindo nova função de acuracia [OBS2]\n",
        "hits = 0\n",
        "for i, prediction in enumerate(grouped_predictions):\n",
        "    # print(prediction)\n",
        "    # print(convertedArray[i])\n",
        "    if (prediction == y_test_as_array[i]).all():\n",
        "        hits+=1\n",
        "\n",
        "# print('gp', grouped_predictions)\n",
        "# print('y', y_test_as_array)\n",
        "print('Acuracia: ',hits/n_test)"
      ],
      "metadata": {
        "colab": {
          "base_uri": "https://localhost:8080/"
        },
        "id": "Ht5O8wrTg_AY",
        "outputId": "fede051c-eb7c-47fa-8c90-e2b48b491301"
      },
      "execution_count": null,
      "outputs": [
        {
          "output_type": "stream",
          "name": "stdout",
          "text": [
            "Acuracia:  0.64\n"
          ]
        }
      ]
    },
    {
      "cell_type": "code",
      "source": [],
      "metadata": {
        "id": "fP0FQy1ThFgW"
      },
      "execution_count": null,
      "outputs": []
    },
    {
      "cell_type": "markdown",
      "metadata": {
        "id": "yaQt2hof2t1a"
      },
      "source": [
        "# Sigmoid como função de ativação"
      ]
    },
    {
      "cell_type": "markdown",
      "metadata": {
        "id": "xIYIiljE-SwA"
      },
      "source": [
        "A função de ativação sigmoid é muito utilizada em machine learning. Ela resulta em um output entre 0 e 1, portanto nos permite prever a probabilidade de um output.\n",
        "\n",
        "\n",
        "Para o nosso problema específico essa função tem um benefício a mais que é o de permitir a quebra de empates com a existencia de valores intermediários entre 0 e 1.\n",
        "\n",
        "Para implementar o sigmoid o treinamento muda um pouco. No nosso caso não utilizaremos mais o alpha e sim um componente derivativo que assumirá o papel do alpha no treinamento da rede. (Podemos continuar utilizando alpha, mas não é tão necessário quanto no caso da função degrau)"
      ]
    },
    {
      "cell_type": "code",
      "metadata": {
        "colab": {
          "base_uri": "https://localhost:8080/",
          "height": 447
        },
        "id": "gqIUpI80fNOC",
        "outputId": "595eb914-0020-4ae5-a0ec-67953701d995"
      },
      "source": [
        "x = np.arange(-10., 10., 0.2)\n",
        "sig = 1 / (1 + np.exp(-x))\n",
        "plt.plot(x, sig, 'b', label='Função Sigmoid')"
      ],
      "execution_count": null,
      "outputs": [
        {
          "output_type": "execute_result",
          "data": {
            "text/plain": [
              "[<matplotlib.lines.Line2D at 0x7fc6bdcc23b0>]"
            ]
          },
          "metadata": {},
          "execution_count": 123
        },
        {
          "output_type": "display_data",
          "data": {
            "text/plain": [
              "<Figure size 640x480 with 1 Axes>"
            ],
            "image/png": "[encoded data removed]"
          },
          "metadata": {}
        }
      ]
    },
    {
      "cell_type": "markdown",
      "metadata": {
        "id": "m4ud-Hm05nAa"
      },
      "source": [
        "## Começaremos reescrevendo o nosso perceptron"
      ]
    },
    {
      "cell_type": "markdown",
      "metadata": {
        "id": "6qkziCVC5x4Q"
      },
      "source": []
    },
    {
      "cell_type": "code",
      "metadata": {
        "id": "vxi5XHy45zLx"
      },
      "source": [
        "class Perceptron2(object):\n",
        "\n",
        "  def __init__(self, epochs=10):\n",
        "    np.random.seed(1) # [OBS1]\n",
        "    self.epochs = epochs\n",
        "    self.weights = None\n",
        "    self.bias = 0.5\n",
        "    self.samples = None\n",
        "    self.features = None\n",
        "\n",
        "  def sigmoid_derivative(self, x):\n",
        "    #computing derivative to the Sigmoid function\n",
        "    return x * (1 - x)\n",
        "\n",
        "  def fit (self, X, Y):\n",
        "    n_samples, n_features = X.shape\n",
        "    # Inicialize os Pesos e Bias: [ATIVIDADE 12]\n",
        "    self.weights = 2*np.random.random((n_features))-1\n",
        "    self.bias = 2*np.random.random()-1\n",
        "\n",
        "    for epoch in range(self.epochs):\n",
        "        for x_i,y_esperado in zip(X,Y):\n",
        "            output = self.predict(x_i)\n",
        "            # Calcule o sigmoid_derivative : [ATIVIDADE 13]\n",
        "            erro = y_esperado - output\n",
        "            self.weights = self.weights + self.sigmoid_derivative(output) * erro * x_i\n",
        "            self.bias = self.bias + (self.sigmoid_derivative(output) * erro)\n",
        "    return self\n",
        "\n",
        "  def predict(self, X):\n",
        "    # Calcule o output do perceptron: [ATIVIDADE 14]\n",
        "    Z = np.dot(X , self.weights) + self.bias\n",
        "    output=self.activation(Z)\n",
        "    return output\n",
        "\n",
        "  def activation(self, signal):\n",
        "    return 1 / (1 + np.exp(-signal)) # Função sigmoid de ativação"
      ],
      "execution_count": null,
      "outputs": []
    },
    {
      "cell_type": "markdown",
      "metadata": {
        "id": "SZMIfp26KeOV"
      },
      "source": [
        "### Atividade 12: Inicialize os Pesos e Bias\n",
        "Como foi feito na atividade 1, inicialize os pesos e bias com valores aleatórios."
      ]
    },
    {
      "cell_type": "markdown",
      "metadata": {
        "id": "keNACqsv6n5u"
      },
      "source": [
        "### Atividade 13: Calcule o Sigmoid_Derivative\n",
        "Baseado no nosso neurônio definido mais acima, atualize os pesos e bias substituindo o `self.alpha` por `self.sigmoid_derivative(output)`."
      ]
    },
    {
      "cell_type": "markdown",
      "metadata": {
        "id": "1QVXoVhHNd9f"
      },
      "source": [
        "### Atividade 14: Calcule o output do perceptron\n",
        "Baseado no nosso neurônio definido mais acima (atividade 3), faça o cálculo do output do perceptron."
      ]
    },
    {
      "cell_type": "code",
      "metadata": {
        "id": "v7Cn1jaS6ov7"
      },
      "source": [
        "P_list = []\n",
        "# Liste, Treine e Rode seu sistema de 10 perceptrons: [ATIVIDADE 15]\n",
        "\n",
        "for i in range(10):\n",
        "    P_list.append(Perceptron2(epochs=30))\n",
        "\n",
        "# Loop de treinamento:\n",
        "for i in range(len(P_list)):\n",
        "    P_list[i].fit(x_train, y_formatado[i])\n",
        "\n",
        "\n",
        "predictions = []\n",
        "# Loop de predições:\n",
        "for i in range(len(P_list)):\n",
        "    predictions.append(P_list[i].predict(x_test))\n"
      ],
      "execution_count": null,
      "outputs": []
    },
    {
      "cell_type": "code",
      "source": [
        "a=np.array((100))\n",
        "b=[]\n",
        "c=[]\n",
        "for i, j in enumerate (predictions):\n",
        "    a=j\n",
        "    b=[]\n",
        "    for k in range(100):\n",
        "        b.append(a[k])\n",
        "    c.append(b)\n",
        "print(len(c))\n",
        "print(len(c[0]))\n",
        "for i in range(10):\n",
        "    print(c[i][0])\n",
        "print(y_test[0])"
      ],
      "metadata": {
        "colab": {
          "base_uri": "https://localhost:8080/"
        },
        "id": "zQXhZTXCe7t5",
        "outputId": "5a5d5e19-bf90-418a-85f2-6b579d413762"
      },
      "execution_count": null,
      "outputs": [
        {
          "output_type": "stream",
          "name": "stdout",
          "text": [
            "10\n",
            "100\n",
            "8.076014790671367e-27\n",
            "2.3377246429608587e-10\n",
            "5.528928317845479e-09\n",
            "6.267497187690446e-15\n",
            "3.839701107277404e-17\n",
            "0.0025097099192816596\n",
            "7.999527711930826e-16\n",
            "3.1357636944986634e-05\n",
            "7.734354818513893e-09\n",
            "1.7371413018228458e-09\n",
            "[9]\n"
          ]
        }
      ]
    },
    {
      "cell_type": "markdown",
      "metadata": {
        "id": "yozrKkFOK4oY"
      },
      "source": [
        "### Atividade 15: Liste, Treine e Rode o sistema\n",
        "Como feito anteriormente [8, 9, 10] Inicialize seu sistema, treine, e gere seu vetor de predições."
      ]
    },
    {
      "cell_type": "code",
      "metadata": {
        "colab": {
          "base_uri": "https://localhost:8080/",
          "height": 791
        },
        "id": "QcLy-NkZ6xcY",
        "outputId": "b6c2efc1-cb43-4c4b-cd11-be8682789caa"
      },
      "source": [
        "y_test = np.array(read_labels(TEST_LABELS_FILENAME, n_test)).reshape(n_test,1)\n",
        "\n",
        "final_predictions = []\n",
        "# Preencha o vetor final_predictions: [ATIVIDADE 16]\n",
        "print(len(predictions))\n",
        "print(len(predictions[0]))\n",
        "print(predictions[0])\n",
        "\n",
        "\n",
        "\n",
        "for i in range(n_test):\n",
        "    singlePrediction = []\n",
        "    for j, prediction in enumerate(predictions):\n",
        "        singlePrediction.append(prediction[i])\n",
        "    final_predictions.append(singlePrediction)\n",
        "\n",
        "# Reformatando o vetor de labels\n",
        "def convert_number_to_array_prediction(n):\n",
        "    array_prediction = np.zeros(10)\n",
        "    array_prediction[n] = 1\n",
        "    return array_prediction\n",
        "\n",
        "def convert_y_test_to_array_prediction(ytest):\n",
        "    convertedList = []\n",
        "    for i in ytest:\n",
        "        convertedList.append(convert_number_to_array_prediction(i))\n",
        "    return np.array(convertedList)\n",
        "\n",
        "# Salvando novo vetor de y_test\n",
        "y_test_as_array = convert_y_test_to_array_prediction(y_test)\n",
        "\n",
        "# Definindo nova função de acuracia [OBS2]\n",
        "hits = 0\n",
        "for i, prediction in enumerate(final_predictions):\n",
        "    # print(prediction)\n",
        "    # print(convertedArray[i])\n",
        "    if (prediction == y_test_as_array[i]).all():\n",
        "        hits+=1\n",
        "\n",
        "\n",
        "\n",
        "print(accuracy(final_predictions, y_test))\n"
      ],
      "execution_count": null,
      "outputs": [
        {
          "output_type": "stream",
          "name": "stdout",
          "text": [
            "10\n",
            "100\n",
            "[8.07601479e-27 9.26137846e-30 4.24231398e-09 1.11189005e-14\n",
            " 1.24463425e-10 2.99375004e-05 5.00551200e-03 6.73334921e-19\n",
            " 1.67038802e-08 2.26465148e-21 2.86418682e-30 3.14144066e-20\n",
            " 1.62969664e-25 1.98754802e-13 1.27171177e-29 1.37343212e-10\n",
            " 2.84154250e-07 1.44620647e-15 8.02079280e-23 1.00000000e+00\n",
            " 8.80258871e-05 1.37504784e-30 3.84198645e-36 1.39408250e-28\n",
            " 1.40667994e-13 4.86308156e-18 7.40537688e-34 9.98303158e-01\n",
            " 1.16817669e-29 9.04155694e-09 3.13591824e-49 1.50111101e-07\n",
            " 2.86105635e-10 7.89920959e-07 2.92223524e-23 9.99999987e-01\n",
            " 2.37442228e-20 4.26416967e-09 2.71242044e-35 4.26798665e-28\n",
            " 1.00000000e+00 2.31593556e-12 8.33866105e-07 7.86183185e-28\n",
            " 9.01431470e-23 5.48451795e-16 5.67784464e-17 2.31602941e-11\n",
            " 4.63491851e-25 2.63865438e-23 1.56909520e-21 3.31801186e-19\n",
            " 2.31974806e-09 5.30474063e-21 2.14095402e-18 1.04930558e-10\n",
            " 3.07370888e-24 3.30186553e-35 7.39882532e-25 1.00000000e+00\n",
            " 3.24769968e-25 3.44104589e-33 2.91262041e-57 5.27057356e-15\n",
            " 8.98480409e-14 7.44556873e-11 5.66204172e-07 1.67334254e-11\n",
            " 8.98918330e-21 4.67629394e-48 4.03178733e-21 9.99998051e-01\n",
            " 7.37666539e-13 1.85819679e-04 7.93832395e-34 3.48429095e-03\n",
            " 4.90536280e-10 7.32507760e-29 2.26382522e-40 1.25685614e-36\n",
            " 1.22507318e-08 5.28159920e-34 3.50689899e-21 3.28712839e-33\n",
            " 8.30619773e-19 1.00000000e+00 8.77332040e-05 1.56935638e-27\n",
            " 1.00000000e+00 1.37479174e-15 1.30064154e-14 9.63144549e-01\n",
            " 1.23772153e-29 1.83898043e-39 2.41296930e-13 4.17379009e-26\n",
            " 9.99999876e-01 1.83455505e-11 4.65160267e-29 1.15687390e-30]\n"
          ]
        },
        {
          "output_type": "error",
          "ename": "ValueError",
          "evalue": "ignored",
          "traceback": [
            "\u001b[0;31m---------------------------------------------------------------------------\u001b[0m",
            "\u001b[0;31mValueError\u001b[0m                                Traceback (most recent call last)",
            "\u001b[0;32m<ipython-input-218-5ab88edbca4a>\u001b[0m in \u001b[0;36m<cell line: 42>\u001b[0;34m()\u001b[0m\n\u001b[1;32m     40\u001b[0m \u001b[0;34m\u001b[0m\u001b[0m\n\u001b[1;32m     41\u001b[0m \u001b[0;34m\u001b[0m\u001b[0m\n\u001b[0;32m---> 42\u001b[0;31m \u001b[0mprint\u001b[0m\u001b[0;34m(\u001b[0m\u001b[0maccuracy\u001b[0m\u001b[0;34m(\u001b[0m\u001b[0mfinal_predictions\u001b[0m\u001b[0;34m,\u001b[0m \u001b[0my_test\u001b[0m\u001b[0;34m)\u001b[0m\u001b[0;34m)\u001b[0m\u001b[0;34m\u001b[0m\u001b[0;34m\u001b[0m\u001b[0m\n\u001b[0m",
            "\u001b[0;32m<ipython-input-164-050b28aaa0c8>\u001b[0m in \u001b[0;36maccuracy\u001b[0;34m(y_true, y_pred)\u001b[0m\n\u001b[1;32m      3\u001b[0m     \u001b[0;31m# Crie uma função de acurácia simples: [ATIVIDADE 4]\u001b[0m\u001b[0;34m\u001b[0m\u001b[0;34m\u001b[0m\u001b[0m\n\u001b[1;32m      4\u001b[0m     \u001b[0;32mfor\u001b[0m \u001b[0mi\u001b[0m\u001b[0;34m,\u001b[0m \u001b[0mvalue\u001b[0m \u001b[0;32min\u001b[0m \u001b[0menumerate\u001b[0m\u001b[0;34m(\u001b[0m\u001b[0my_true\u001b[0m\u001b[0;34m)\u001b[0m\u001b[0;34m:\u001b[0m\u001b[0;34m\u001b[0m\u001b[0;34m\u001b[0m\u001b[0m\n\u001b[0;32m----> 5\u001b[0;31m         \u001b[0;32mif\u001b[0m \u001b[0my_true\u001b[0m\u001b[0;34m[\u001b[0m\u001b[0mi\u001b[0m\u001b[0;34m]\u001b[0m \u001b[0;34m==\u001b[0m \u001b[0my_pred\u001b[0m\u001b[0;34m[\u001b[0m\u001b[0mi\u001b[0m\u001b[0;34m]\u001b[0m\u001b[0;34m:\u001b[0m\u001b[0;34m\u001b[0m\u001b[0;34m\u001b[0m\u001b[0m\n\u001b[0m\u001b[1;32m      6\u001b[0m             \u001b[0mhits\u001b[0m \u001b[0;34m+=\u001b[0m \u001b[0;36m1\u001b[0m\u001b[0;34m\u001b[0m\u001b[0;34m\u001b[0m\u001b[0m\n\u001b[1;32m      7\u001b[0m     \u001b[0;32mreturn\u001b[0m \u001b[0mhits\u001b[0m\u001b[0;34m/\u001b[0m\u001b[0mlen\u001b[0m\u001b[0;34m(\u001b[0m\u001b[0my_true\u001b[0m\u001b[0;34m)\u001b[0m\u001b[0;34m*\u001b[0m\u001b[0;36m100\u001b[0m \u001b[0;32mif\u001b[0m \u001b[0mhits\u001b[0m \u001b[0;34m!=\u001b[0m \u001b[0;36m0\u001b[0m \u001b[0;32melse\u001b[0m \u001b[0;36m0\u001b[0m\u001b[0;34m\u001b[0m\u001b[0;34m\u001b[0m\u001b[0m\n",
            "\u001b[0;31mValueError\u001b[0m: The truth value of an array with more than one element is ambiguous. Use a.any() or a.all()"
          ]
        }
      ]
    },
    {
      "cell_type": "markdown",
      "metadata": {
        "id": "S7goII_SLcmC"
      },
      "source": [
        "### Atividade 16: Preencher o vetor `final_predictions`\n",
        "Para cada exemplo de teste precisamos percorrer o vetor de predições e salvar o `indice` (correspondente a label do neuronio) do maior valor encontrado para cada predição no vetor `final_predictions`."
      ]
    },
    {
      "cell_type": "markdown",
      "metadata": {
        "id": "q9Asb7BP75Rd"
      },
      "source": [
        "# Alguns questionamentos"
      ]
    },
    {
      "cell_type": "markdown",
      "metadata": {
        "id": "ZMXsxEQL785R"
      },
      "source": [
        "**1. Compare o desempenho obtido pelo perceptron 1, com função de ativação degrau e do perceptron 2, com função de ativação sigmoid.**\n",
        "\n",
        "Resposta:"
      ]
    },
    {
      "cell_type": "markdown",
      "metadata": {
        "id": "tjAQHgsTRE9e"
      },
      "source": [
        "**2. Que parâmetros podemos modificar para melhorar a acuracia?**\n",
        "\n",
        "Resposta:"
      ]
    }
  ]
}